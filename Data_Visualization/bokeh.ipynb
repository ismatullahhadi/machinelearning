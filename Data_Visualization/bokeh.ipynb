{
 "cells": [
  {
   "cell_type": "code",
   "execution_count": 1,
   "metadata": {},
   "outputs": [],
   "source": [
    "import numpy as np\n",
    "\n",
    "from bokeh.plotting import figure, show\n",
    "\n",
    "N = 500\n",
    "x = np.linspace(0, 10, N)\n",
    "y = np.linspace(0, 10, N)\n",
    "xx, yy = np.meshgrid(x, y)\n",
    "d = np.sin(xx)*np.cos(yy)\n",
    "\n",
    "p = figure(tooltips=[(\"x\", \"$x\"), (\"y\", \"$y\"), (\"value\", \"@image\")])\n",
    "p.x_range.range_padding = p.y_range.range_padding = 0\n",
    "\n",
    "# must give a vector of image data for image parameter\n",
    "p.image(image=[d], x=0, y=0, dw=10, dh=10, palette=\"Spectral11\", level=\"image\")\n",
    "p.grid.grid_line_width = 0.5\n",
    "\n",
    "show(p)"
   ]
  },
  {
   "cell_type": "code",
   "execution_count": 3,
   "metadata": {},
   "outputs": [],
   "source": [
    "import numpy as np\n",
    "from scipy.integrate import odeint\n",
    "\n",
    "from bokeh.plotting import figure, show\n",
    "\n",
    "sigma = 10\n",
    "rho = 28\n",
    "beta = 8.0/3\n",
    "theta = 3 * np.pi / 4\n",
    "\n",
    "def lorenz(xyz, t):\n",
    "    x, y, z = xyz\n",
    "    x_dot = sigma * (y - x)\n",
    "    y_dot = x * rho - x * z - y\n",
    "    z_dot = x * y - beta* z\n",
    "    return [x_dot, y_dot, z_dot]\n",
    "\n",
    "initial = (-10, -7, 35)\n",
    "t = np.arange(0, 100, 0.006)\n",
    "\n",
    "solution = odeint(lorenz, initial, t)\n",
    "\n",
    "x = solution[:, 0]\n",
    "y = solution[:, 1]\n",
    "z = solution[:, 2]\n",
    "xprime = np.cos(theta) * x - np.sin(theta) * y\n",
    "\n",
    "colors = [\"#C6DBEF\", \"#9ECAE1\", \"#6BAED6\", \"#4292C6\", \"#2171B5\", \"#08519C\", \"#08306B\",]\n",
    "\n",
    "p = figure(title=\"Lorenz attractor example\", background_fill_color=\"#fafafa\")\n",
    "\n",
    "p.multi_line(np.array_split(xprime, 7), np.array_split(z, 7),\n",
    "             line_color=colors, line_alpha=0.8, line_width=1.5)\n",
    "\n",
    "show(p)"
   ]
  }
 ],
 "metadata": {
  "interpreter": {
   "hash": "7306ad071e428c6da4435de593907615ae2d8a0d9dc6a1094b4e60a7b3dd4fb2"
  },
  "kernelspec": {
   "display_name": "Python 3.8.8 64-bit ('base': conda)",
   "name": "python3"
  },
  "language_info": {
   "codemirror_mode": {
    "name": "ipython",
    "version": 3
   },
   "file_extension": ".py",
   "mimetype": "text/x-python",
   "name": "python",
   "nbconvert_exporter": "python",
   "pygments_lexer": "ipython3",
   "version": "3.8.8"
  },
  "orig_nbformat": 4
 },
 "nbformat": 4,
 "nbformat_minor": 2
}
